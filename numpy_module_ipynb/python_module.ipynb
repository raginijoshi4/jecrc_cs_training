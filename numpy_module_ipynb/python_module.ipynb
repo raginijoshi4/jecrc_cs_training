{
 "cells": [
  {
   "cell_type": "code",
   "execution_count": 1,
   "id": "8bff10a2-d5f9-44dd-aa89-b16ce98e3661",
   "metadata": {},
   "outputs": [
    {
     "name": "stdout",
     "output_type": "stream",
     "text": [
      "Requirement already satisfied: numpy in c:\\users\\ragini\\anaconda3\\lib\\site-packages (1.21.5)\n"
     ]
    }
   ],
   "source": [
    "!pip install numpy"
   ]
  },
  {
   "cell_type": "code",
   "execution_count": 2,
   "id": "91ed26d2-e20e-4684-9f52-8f9ab33199fa",
   "metadata": {},
   "outputs": [],
   "source": [
    "import numpy as np"
   ]
  },
  {
   "cell_type": "code",
   "execution_count": 10,
   "id": "83ffe828-f417-480b-b772-c5b0417d13c7",
   "metadata": {},
   "outputs": [],
   "source": [
    "a=np.array([])\n",
    "b=np.array([1,2,3,4,5,0])\n",
    "c=np.array([[12,3,4],[34,2,4]])"
   ]
  },
  {
   "cell_type": "code",
   "execution_count": 6,
   "id": "dd729cdd-d1a1-4219-8cd9-c98962316733",
   "metadata": {},
   "outputs": [
    {
     "data": {
      "text/plain": [
       "array([], dtype=float64)"
      ]
     },
     "execution_count": 6,
     "metadata": {},
     "output_type": "execute_result"
    }
   ],
   "source": [
    "a"
   ]
  },
  {
   "cell_type": "code",
   "execution_count": 12,
   "id": "5036eb8b-ee15-46b6-9dfb-022f8a244c5d",
   "metadata": {},
   "outputs": [
    {
     "data": {
      "text/plain": [
       "array([1, 2, 3, 4, 5, 0])"
      ]
     },
     "execution_count": 12,
     "metadata": {},
     "output_type": "execute_result"
    }
   ],
   "source": [
    "b"
   ]
  },
  {
   "cell_type": "code",
   "execution_count": 11,
   "id": "c5b504ea-fc2e-4d7a-a1ab-1097ae48aaa4",
   "metadata": {},
   "outputs": [
    {
     "data": {
      "text/plain": [
       "array([[12,  3,  4],\n",
       "       [34,  2,  4]])"
      ]
     },
     "execution_count": 11,
     "metadata": {},
     "output_type": "execute_result"
    }
   ],
   "source": [
    "c"
   ]
  },
  {
   "cell_type": "code",
   "execution_count": 14,
   "id": "0cd8d051-b7ce-407a-9fa4-bf02f6c3a928",
   "metadata": {},
   "outputs": [
    {
     "data": {
      "text/plain": [
       "numpy.ndarray"
      ]
     },
     "execution_count": 14,
     "metadata": {},
     "output_type": "execute_result"
    }
   ],
   "source": [
    "type(c)"
   ]
  },
  {
   "cell_type": "code",
   "execution_count": 15,
   "id": "7559c910-7ba4-4d3f-827a-517e5ade19ff",
   "metadata": {},
   "outputs": [
    {
     "data": {
      "text/plain": [
       "2"
      ]
     },
     "execution_count": 15,
     "metadata": {},
     "output_type": "execute_result"
    }
   ],
   "source": [
    "c.ndim"
   ]
  },
  {
   "cell_type": "code",
   "execution_count": 16,
   "id": "e0947b0e-7eb8-455e-bd45-5e18f7a6c097",
   "metadata": {},
   "outputs": [
    {
     "data": {
      "text/plain": [
       "6"
      ]
     },
     "execution_count": 16,
     "metadata": {},
     "output_type": "execute_result"
    }
   ],
   "source": [
    "c.size"
   ]
  },
  {
   "cell_type": "code",
   "execution_count": 17,
   "id": "ece9837e-7e28-4b57-943f-295c41895c5d",
   "metadata": {},
   "outputs": [
    {
     "data": {
      "text/plain": [
       "(2, 3)"
      ]
     },
     "execution_count": 17,
     "metadata": {},
     "output_type": "execute_result"
    }
   ],
   "source": [
    "c.shape"
   ]
  },
  {
   "cell_type": "code",
   "execution_count": 18,
   "id": "f540ff7a-4692-4825-b160-307ebb0717f2",
   "metadata": {},
   "outputs": [],
   "source": [
    "n = np.array([  [ 2,3,4,5 ] , [ 10,20,30,40 ] , [ 100,200,300,400 ]  ])"
   ]
  },
  {
   "cell_type": "code",
   "execution_count": 19,
   "id": "d35498b1-4560-47d5-8ea6-c9bc3a55a1e8",
   "metadata": {},
   "outputs": [
    {
     "data": {
      "text/plain": [
       "(3, 4)"
      ]
     },
     "execution_count": 19,
     "metadata": {},
     "output_type": "execute_result"
    }
   ],
   "source": [
    "n.shape"
   ]
  },
  {
   "cell_type": "code",
   "execution_count": 1,
   "id": "77533745-4112-4ce6-b33d-cae96c205dfb",
   "metadata": {},
   "outputs": [
    {
     "ename": "NameError",
     "evalue": "name 'np' is not defined",
     "output_type": "error",
     "traceback": [
      "\u001b[1;31m---------------------------------------------------------------------------\u001b[0m",
      "\u001b[1;31mNameError\u001b[0m                                 Traceback (most recent call last)",
      "Input \u001b[1;32mIn [1]\u001b[0m, in \u001b[0;36m<cell line: 1>\u001b[1;34m()\u001b[0m\n\u001b[1;32m----> 1\u001b[0m n \u001b[38;5;241m=\u001b[39m \u001b[43mnp\u001b[49m\u001b[38;5;241m.\u001b[39marray([  [ \u001b[38;5;241m2\u001b[39m,\u001b[38;5;241m3\u001b[39m,\u001b[38;5;241m4\u001b[39m,\u001b[38;5;241m5\u001b[39m ] , [ \u001b[38;5;241m10\u001b[39m,\u001b[38;5;241m20\u001b[39m,\u001b[38;5;241m30\u001b[39m,\u001b[38;5;241m40\u001b[39m ] , [ \u001b[38;5;241m100\u001b[39m,\u001b[38;5;241m200\u001b[39m,\u001b[38;5;241m300\u001b[39m,\u001b[38;5;241m400\u001b[39m ]  ])\n",
      "\u001b[1;31mNameError\u001b[0m: name 'np' is not defined"
     ]
    }
   ],
   "source": [
    "n = np.array([  [ 2,3,4,5 ] , [ 10,20,30,40 ] , [ 100,200,300,400 ]  ])"
   ]
  },
  {
   "cell_type": "code",
   "execution_count": 7,
   "id": "00c9f362-ad00-4260-95f7-17f5a58a779b",
   "metadata": {},
   "outputs": [],
   "source": [
    "import numpy as np\n"
   ]
  },
  {
   "cell_type": "code",
   "execution_count": 8,
   "id": "5a9db431-9f20-451e-99a2-64addc435902",
   "metadata": {},
   "outputs": [],
   "source": [
    "n = np.array([  [ 2,3,4,5 ] , [ 10,20,30,40 ] , [ 100,200,300,400 ]  ])"
   ]
  },
  {
   "cell_type": "code",
   "execution_count": 9,
   "id": "f52cb569-140b-4b8d-ac1a-71dc6747ed57",
   "metadata": {},
   "outputs": [
    {
     "data": {
      "text/plain": [
       "2"
      ]
     },
     "execution_count": 9,
     "metadata": {},
     "output_type": "execute_result"
    }
   ],
   "source": [
    "n[0,0]"
   ]
  },
  {
   "cell_type": "code",
   "execution_count": 10,
   "id": "e68a7880-fc02-4970-89c8-72327381577d",
   "metadata": {},
   "outputs": [
    {
     "data": {
      "text/plain": [
       "array([[  2,   3,   4,   5],\n",
       "       [ 10,  20,  30,  40],\n",
       "       [100, 200, 300, 400]])"
      ]
     },
     "execution_count": 10,
     "metadata": {},
     "output_type": "execute_result"
    }
   ],
   "source": [
    "n"
   ]
  },
  {
   "cell_type": "markdown",
   "id": "ad722f0e-e1d4-40a7-8a4e-4f48018621dd",
   "metadata": {},
   "source": [
    "## SYNTAX = n[row,col]"
   ]
  },
  {
   "cell_type": "code",
   "execution_count": 12,
   "id": "db504032-716b-4a0a-aa18-2c64e33449fb",
   "metadata": {},
   "outputs": [
    {
     "data": {
      "text/plain": [
       "array([[ 30,  40],\n",
       "       [300, 400]])"
      ]
     },
     "execution_count": 12,
     "metadata": {},
     "output_type": "execute_result"
    }
   ],
   "source": [
    "n[1:,2:]"
   ]
  },
  {
   "cell_type": "code",
   "execution_count": 13,
   "id": "f57c390a-a837-4d42-99f8-4a0c29fffd46",
   "metadata": {},
   "outputs": [
    {
     "data": {
      "text/plain": [
       "array([[ 30,  40],\n",
       "       [300, 400]])"
      ]
     },
     "execution_count": 13,
     "metadata": {},
     "output_type": "execute_result"
    }
   ],
   "source": [
    "n[1:3,2:4]"
   ]
  },
  {
   "cell_type": "code",
   "execution_count": 14,
   "id": "eec5731a-83fd-4108-9e8a-5be10dce6b91",
   "metadata": {},
   "outputs": [
    {
     "data": {
      "text/plain": [
       "array([ 40, 400])"
      ]
     },
     "execution_count": 14,
     "metadata": {},
     "output_type": "execute_result"
    }
   ],
   "source": [
    "n[1:3,3]"
   ]
  },
  {
   "cell_type": "code",
   "execution_count": 15,
   "id": "e29fc890-b78f-484d-b850-17e51f7e7a4e",
   "metadata": {},
   "outputs": [
    {
     "data": {
      "text/plain": [
       "array([  5,  40, 400])"
      ]
     },
     "execution_count": 15,
     "metadata": {},
     "output_type": "execute_result"
    }
   ],
   "source": [
    "n[0:3,3]"
   ]
  },
  {
   "cell_type": "markdown",
   "id": "4587e5f6-2de0-4dab-9bac-1bea01d244c6",
   "metadata": {},
   "source": [
    "## arrange"
   ]
  },
  {
   "cell_type": "markdown",
   "id": "ebf95094-fe6a-4090-a694-08a760cf225e",
   "metadata": {},
   "source": [
    "(range(2,400))"
   ]
  },
  {
   "cell_type": "markdown",
   "id": "2f8a40be-e0a6-4e21-a076-5085a5382c22",
   "metadata": {},
   "source": [
    "list(range(2,400))"
   ]
  },
  {
   "cell_type": "code",
   "execution_count": 18,
   "id": "704ac2db-4044-4259-92c1-06be001a7872",
   "metadata": {},
   "outputs": [
    {
     "data": {
      "text/plain": [
       "array([2, 3, 4, 5, 6, 7, 8, 9])"
      ]
     },
     "execution_count": 18,
     "metadata": {},
     "output_type": "execute_result"
    }
   ],
   "source": [
    "np.arange(2,10)"
   ]
  },
  {
   "cell_type": "markdown",
   "id": "d0b6e746-71d3-4113-9c4b-c7ad16b30d55",
   "metadata": {},
   "source": [
    "## reshape"
   ]
  },
  {
   "cell_type": "code",
   "execution_count": 26,
   "id": "3f545f41-bfc9-4cfc-be3a-7627460ff530",
   "metadata": {},
   "outputs": [],
   "source": [
    "a= np.arange(12).reshape(6,2)"
   ]
  },
  {
   "cell_type": "raw",
   "id": "f0112260-aefe-4fdb-b2e0-67c73fbb8c1a",
   "metadata": {},
   "source": []
  },
  {
   "cell_type": "code",
   "execution_count": 23,
   "id": "3093fc43-72be-4aad-b2b8-bb6d0b8ad161",
   "metadata": {},
   "outputs": [
    {
     "data": {
      "text/plain": [
       "11.0"
      ]
     },
     "execution_count": 23,
     "metadata": {},
     "output_type": "execute_result"
    }
   ],
   "source": [
    "np.sqrt(121)"
   ]
  },
  {
   "cell_type": "code",
   "execution_count": 27,
   "id": "2b3d2872-c693-4adb-a67a-1d0bd7d9ce42",
   "metadata": {},
   "outputs": [
    {
     "name": "stdout",
     "output_type": "stream",
     "text": [
      "[[ 0  1]\n",
      " [ 2  3]\n",
      " [ 4  5]\n",
      " [ 6  7]\n",
      " [ 8  9]\n",
      " [10 11]]\n"
     ]
    }
   ],
   "source": [
    "print(a)"
   ]
  },
  {
   "cell_type": "code",
   "execution_count": 28,
   "id": "ae220c0a-280a-4f33-8b37-e9f6abafa8e6",
   "metadata": {},
   "outputs": [
    {
     "data": {
      "text/plain": [
       "11"
      ]
     },
     "execution_count": 28,
     "metadata": {},
     "output_type": "execute_result"
    }
   ],
   "source": [
    "a.max()"
   ]
  },
  {
   "cell_type": "code",
   "execution_count": 29,
   "id": "3a951f30-4bbc-443f-b888-3032134cff57",
   "metadata": {},
   "outputs": [
    {
     "data": {
      "text/plain": [
       "11"
      ]
     },
     "execution_count": 29,
     "metadata": {},
     "output_type": "execute_result"
    }
   ],
   "source": [
    "n.argmax()"
   ]
  },
  {
   "cell_type": "code",
   "execution_count": 30,
   "id": "392b02b6-3e68-4471-83c8-5387f49ebdaa",
   "metadata": {},
   "outputs": [
    {
     "data": {
      "text/plain": [
       "0"
      ]
     },
     "execution_count": 30,
     "metadata": {},
     "output_type": "execute_result"
    }
   ],
   "source": [
    "n.argmin()"
   ]
  },
  {
   "cell_type": "code",
   "execution_count": 31,
   "id": "92c372f0-8c55-4a00-ad6d-2f1b73239fda",
   "metadata": {},
   "outputs": [
    {
     "data": {
      "text/plain": [
       "array([[ 0,  3],\n",
       "       [ 6,  9],\n",
       "       [12, 15],\n",
       "       [18, 21],\n",
       "       [24, 27],\n",
       "       [30, 33]])"
      ]
     },
     "execution_count": 31,
     "metadata": {},
     "output_type": "execute_result"
    }
   ],
   "source": [
    "a*3"
   ]
  },
  {
   "cell_type": "code",
   "execution_count": 32,
   "id": "13f91779-5eb3-4902-81b7-58e6fd594272",
   "metadata": {},
   "outputs": [
    {
     "data": {
      "text/plain": [
       "array([[-4, -3],\n",
       "       [-2, -1],\n",
       "       [ 0,  1],\n",
       "       [ 2,  3],\n",
       "       [ 4,  5],\n",
       "       [ 6,  7]])"
      ]
     },
     "execution_count": 32,
     "metadata": {},
     "output_type": "execute_result"
    }
   ],
   "source": [
    "a-4"
   ]
  },
  {
   "cell_type": "markdown",
   "id": "b2dd7eca-ae4f-4039-b100-40d5680593f2",
   "metadata": {},
   "source": [
    "## Random"
   ]
  },
  {
   "cell_type": "code",
   "execution_count": 33,
   "id": "f7009c22-efb6-4920-95ca-903bc9385ada",
   "metadata": {},
   "outputs": [
    {
     "data": {
      "text/plain": [
       "array([[0.97816394, 0.72346725],\n",
       "       [0.64381937, 0.35936211]])"
      ]
     },
     "execution_count": 33,
     "metadata": {},
     "output_type": "execute_result"
    }
   ],
   "source": [
    "np.random.rand(2,2)"
   ]
  },
  {
   "cell_type": "code",
   "execution_count": 34,
   "id": "3b20b93d-d570-4ade-a6ff-113f465a9154",
   "metadata": {},
   "outputs": [
    {
     "data": {
      "text/plain": [
       "array([0.79910254, 0.3731885 ])"
      ]
     },
     "execution_count": 34,
     "metadata": {},
     "output_type": "execute_result"
    }
   ],
   "source": [
    "np.random.rand(2)"
   ]
  },
  {
   "cell_type": "code",
   "execution_count": 35,
   "id": "5cfa035a-6302-4aca-9bf1-b3065f5e6b42",
   "metadata": {},
   "outputs": [
    {
     "data": {
      "text/plain": [
       "array([[ 0.38866834,  1.34582178],\n",
       "       [-0.03421681, -1.93013482]])"
      ]
     },
     "execution_count": 35,
     "metadata": {},
     "output_type": "execute_result"
    }
   ],
   "source": [
    "np.random.randn(2,2)"
   ]
  },
  {
   "cell_type": "code",
   "execution_count": 39,
   "id": "f097b1e6-02a2-4bb9-a836-967af00555ee",
   "metadata": {},
   "outputs": [],
   "source": [
    "s=np.random.randint(9,90,12).reshape(6,2)"
   ]
  },
  {
   "cell_type": "markdown",
   "id": "c213dcee-fb79-4ed4-9c4c-0215a532ff59",
   "metadata": {},
   "source": [
    "s.sum()"
   ]
  },
  {
   "cell_type": "code",
   "execution_count": 40,
   "id": "fb4072c4-647c-4fcd-84bc-8fa407a741e8",
   "metadata": {},
   "outputs": [
    {
     "data": {
      "text/plain": [
       "583"
      ]
     },
     "execution_count": 40,
     "metadata": {},
     "output_type": "execute_result"
    }
   ],
   "source": [
    "s.sum()"
   ]
  },
  {
   "cell_type": "code",
   "execution_count": 42,
   "id": "10dba514-70d1-4cc8-bcd5-6e4feb76de91",
   "metadata": {},
   "outputs": [
    {
     "data": {
      "text/plain": [
       "array([ 43,  97,  85, 159,  83, 116])"
      ]
     },
     "execution_count": 42,
     "metadata": {},
     "output_type": "execute_result"
    }
   ],
   "source": [
    "s.sum(axis=1)"
   ]
  },
  {
   "cell_type": "markdown",
   "id": "0761af97-beda-47e8-859d-c867f9653325",
   "metadata": {},
   "source": [
    "## 3D"
   ]
  },
  {
   "cell_type": "code",
   "execution_count": 45,
   "id": "34f0d2dc-1f7e-4c18-b895-4eef28f7fe1c",
   "metadata": {},
   "outputs": [],
   "source": [
    "r =np.array( [[[4,40],[5,50],[6,60]],[[7,70],[8,80],[9,90]],[[5,50],[4,40],[6,60]]])"
   ]
  },
  {
   "cell_type": "code",
   "execution_count": 46,
   "id": "bc501c37-125c-4663-804b-b8591677bc36",
   "metadata": {},
   "outputs": [
    {
     "data": {
      "text/plain": [
       "(3, 3, 2)"
      ]
     },
     "execution_count": 46,
     "metadata": {},
     "output_type": "execute_result"
    }
   ],
   "source": [
    "r.shape"
   ]
  },
  {
   "cell_type": "markdown",
   "id": "64b11d2b-46e4-4ff4-ac51-060d309c60d0",
   "metadata": {},
   "source": [
    "## Nan-not a number"
   ]
  },
  {
   "cell_type": "code",
   "execution_count": 48,
   "id": "75b9e56d-b19f-456a-ba72-c1d0e550b300",
   "metadata": {},
   "outputs": [],
   "source": [
    "x = np.array([12,56,np.nan,66,100,np.nan])"
   ]
  },
  {
   "cell_type": "code",
   "execution_count": 49,
   "id": "bfc25ab2-fd82-4ca0-8d09-d4a7d0ac9a45",
   "metadata": {},
   "outputs": [
    {
     "data": {
      "text/plain": [
       "array([ 12.,  56.,  nan,  66., 100.,  nan])"
      ]
     },
     "execution_count": 49,
     "metadata": {},
     "output_type": "execute_result"
    }
   ],
   "source": [
    "x"
   ]
  },
  {
   "cell_type": "code",
   "execution_count": 51,
   "id": "da5d2278-a992-4ef0-801a-7feb1ff600bc",
   "metadata": {},
   "outputs": [
    {
     "data": {
      "text/plain": [
       "dtype('float64')"
      ]
     },
     "execution_count": 51,
     "metadata": {},
     "output_type": "execute_result"
    }
   ],
   "source": [
    "x.dtype"
   ]
  },
  {
   "cell_type": "code",
   "execution_count": 52,
   "id": "bb1dd0e8-5916-4cbb-9f1f-4423735cf8a3",
   "metadata": {},
   "outputs": [],
   "source": [
    "import pandas as pd"
   ]
  },
  {
   "cell_type": "code",
   "execution_count": null,
   "id": "a0537b49-d4ef-4de7-b68f-6549c38c6334",
   "metadata": {},
   "outputs": [],
   "source": []
  }
 ],
 "metadata": {
  "kernelspec": {
   "display_name": "Python 3 (ipykernel)",
   "language": "python",
   "name": "python3"
  },
  "language_info": {
   "codemirror_mode": {
    "name": "ipython",
    "version": 3
   },
   "file_extension": ".py",
   "mimetype": "text/x-python",
   "name": "python",
   "nbconvert_exporter": "python",
   "pygments_lexer": "ipython3",
   "version": "3.9.12"
  }
 },
 "nbformat": 4,
 "nbformat_minor": 5
}
