{
 "cells": [
  {
   "cell_type": "code",
   "execution_count": 1,
   "id": "f39b5e2c-c860-472b-8511-46b33c5471be",
   "metadata": {},
   "outputs": [],
   "source": [
    "import pandas as pd"
   ]
  },
  {
   "cell_type": "code",
   "execution_count": null,
   "id": "ee1024b5-8b8f-4590-a484-24a9d4b76488",
   "metadata": {},
   "outputs": [],
   "source": [
    "df = pd.read_csv('u.data')"
   ]
  },
  {
   "cell_type": "code",
   "execution_count": null,
   "id": "8a6c652c-ab61-4d34-8729-9d6d2a04e5c8",
   "metadata": {},
   "outputs": [],
   "source": [
    "df"
   ]
  }
 ],
 "metadata": {
  "kernelspec": {
   "display_name": "Python 3 (ipykernel)",
   "language": "python",
   "name": "python3"
  },
  "language_info": {
   "codemirror_mode": {
    "name": "ipython",
    "version": 3
   },
   "file_extension": ".py",
   "mimetype": "text/x-python",
   "name": "python",
   "nbconvert_exporter": "python",
   "pygments_lexer": "ipython3",
   "version": "3.9.12"
  }
 },
 "nbformat": 4,
 "nbformat_minor": 5
}
