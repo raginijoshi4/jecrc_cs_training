{
 "cells": [
  {
   "cell_type": "code",
   "execution_count": 1,
   "id": "81d6861e-0a76-40ce-b332-869531b773fc",
   "metadata": {},
   "outputs": [
    {
     "data": {
      "text/plain": [
       "7"
      ]
     },
     "execution_count": 1,
     "metadata": {},
     "output_type": "execute_result"
    }
   ],
   "source": [
    "3+4\n"
   ]
  },
  {
   "cell_type": "code",
   "execution_count": 2,
   "id": "c5e0beec-9ae1-4841-a379-1c711c42372f",
   "metadata": {},
   "outputs": [
    {
     "name": "stdout",
     "output_type": "stream",
     "text": [
      "welcome to jecrc\n"
     ]
    }
   ],
   "source": [
    "print('welcome to jecrc')\n"
   ]
  },
  {
   "cell_type": "code",
   "execution_count": 3,
   "id": "73adb379-fb70-4eff-ba24-48c250b859c6",
   "metadata": {},
   "outputs": [],
   "source": [
    "##1st heading"
   ]
  },
  {
   "cell_type": "code",
   "execution_count": 4,
   "id": "a04c59e7-8a0e-4d71-9008-7113d963bddc",
   "metadata": {},
   "outputs": [],
   "source": [
    "## 1st heading"
   ]
  },
  {
   "cell_type": "markdown",
   "id": "3cb910b8-7743-43b8-bca5-d05160e4c9a5",
   "metadata": {},
   "source": [
    "## 1st heading"
   ]
  },
  {
   "cell_type": "code",
   "execution_count": 5,
   "id": "e6d6da42-90eb-4993-9a70-b0eb9fb3c396",
   "metadata": {},
   "outputs": [],
   "source": [
    "## 2nd heading"
   ]
  },
  {
   "cell_type": "markdown",
   "id": "b146d5a6-2702-42c6-b2ee-2e82e87bf9d1",
   "metadata": {},
   "source": [
    "## 2nd heading"
   ]
  },
  {
   "cell_type": "markdown",
   "id": "5b8ac99a-e946-487e-b4ce-5279cdc1c273",
   "metadata": {},
   "source": [
    "* this is first point"
   ]
  },
  {
   "cell_type": "markdown",
   "id": "608af485-fcf9-4801-a4a3-bfd500d10966",
   "metadata": {},
   "source": [
    "1. this is third point"
   ]
  },
  {
   "cell_type": "code",
   "execution_count": 6,
   "id": "a2735ec7-dc67-408d-b429-8c9579350837",
   "metadata": {},
   "outputs": [],
   "source": [
    "import os"
   ]
  },
  {
   "cell_type": "code",
   "execution_count": 7,
   "id": "1c503c2f-80c8-4ca2-b6fe-494cc0527e23",
   "metadata": {},
   "outputs": [
    {
     "data": {
      "text/plain": [
       "<function nt.getcwd()>"
      ]
     },
     "execution_count": 7,
     "metadata": {},
     "output_type": "execute_result"
    }
   ],
   "source": [
    "os.getcwd"
   ]
  },
  {
   "cell_type": "code",
   "execution_count": 8,
   "id": "5efd2af4-69eb-4e52-970c-6690fb46be82",
   "metadata": {},
   "outputs": [
    {
     "data": {
      "text/plain": [
       "'C:\\\\Users\\\\Ragini\\\\day7'"
      ]
     },
     "execution_count": 8,
     "metadata": {},
     "output_type": "execute_result"
    }
   ],
   "source": [
    "os.getcwd()\n"
   ]
  },
  {
   "cell_type": "code",
   "execution_count": 9,
   "id": "84acc027-d270-44e2-b66f-dd495c2290b3",
   "metadata": {},
   "outputs": [
    {
     "ename": "AttributeError",
     "evalue": "module 'os' has no attribute 'chidr'",
     "output_type": "error",
     "traceback": [
      "\u001b[1;31m---------------------------------------------------------------------------\u001b[0m",
      "\u001b[1;31mAttributeError\u001b[0m                            Traceback (most recent call last)",
      "Input \u001b[1;32mIn [9]\u001b[0m, in \u001b[0;36m<cell line: 1>\u001b[1;34m()\u001b[0m\n\u001b[1;32m----> 1\u001b[0m \u001b[43mos\u001b[49m\u001b[38;5;241;43m.\u001b[39;49m\u001b[43mchidr\u001b[49m(\u001b[38;5;124m'\u001b[39m\u001b[38;5;124mC:\u001b[39m\u001b[38;5;130;01m\\\\\u001b[39;00m\u001b[38;5;124mUsers\u001b[39m\u001b[38;5;130;01m\\\\\u001b[39;00m\u001b[38;5;124mRagini\u001b[39m\u001b[38;5;130;01m\\\\\u001b[39;00m\u001b[38;5;124mday6\u001b[39m\u001b[38;5;124m'\u001b[39m)\n",
      "\u001b[1;31mAttributeError\u001b[0m: module 'os' has no attribute 'chidr'"
     ]
    }
   ],
   "source": [
    "os.chidr('C:\\\\Users\\\\Ragini\\\\day6')"
   ]
  },
  {
   "cell_type": "code",
   "execution_count": 10,
   "id": "5a6e3870-ce98-462e-9906-b8daf3bd4f0e",
   "metadata": {},
   "outputs": [],
   "source": [
    "os.chdir('C:\\\\Users\\\\Ragini\\\\day7')"
   ]
  },
  {
   "cell_type": "code",
   "execution_count": 11,
   "id": "0e2db10c-d147-434a-81d2-fa62f3a69ca2",
   "metadata": {},
   "outputs": [
    {
     "ename": "AttributeError",
     "evalue": "module 'os' has no attribute 'listdr'",
     "output_type": "error",
     "traceback": [
      "\u001b[1;31m---------------------------------------------------------------------------\u001b[0m",
      "\u001b[1;31mAttributeError\u001b[0m                            Traceback (most recent call last)",
      "Input \u001b[1;32mIn [11]\u001b[0m, in \u001b[0;36m<cell line: 1>\u001b[1;34m()\u001b[0m\n\u001b[1;32m----> 1\u001b[0m \u001b[43mos\u001b[49m\u001b[38;5;241;43m.\u001b[39;49m\u001b[43mlistdr\u001b[49m(\u001b[38;5;124m'\u001b[39m\u001b[38;5;124mC:\u001b[39m\u001b[38;5;130;01m\\\\\u001b[39;00m\u001b[38;5;124mUsers\u001b[39m\u001b[38;5;130;01m\\\\\u001b[39;00m\u001b[38;5;124mRagini\u001b[39m\u001b[38;5;130;01m\\\\\u001b[39;00m\u001b[38;5;124mday7\u001b[39m\u001b[38;5;124m'\u001b[39m)\n",
      "\u001b[1;31mAttributeError\u001b[0m: module 'os' has no attribute 'listdr'"
     ]
    }
   ],
   "source": [
    "os.listdr('C:\\\\Users\\\\Ragini\\\\day7')"
   ]
  },
  {
   "cell_type": "code",
   "execution_count": 12,
   "id": "fbd5aa62-a828-4f35-a7e6-434cdc40d238",
   "metadata": {},
   "outputs": [],
   "source": [
    "os.mkdir('Empty_folder')"
   ]
  },
  {
   "cell_type": "code",
   "execution_count": 13,
   "id": "ac156bb2-f22c-486d-a3ac-a2e539e1a307",
   "metadata": {},
   "outputs": [],
   "source": [
    "os.rmdir('Empty_folder')"
   ]
  },
  {
   "cell_type": "markdown",
   "id": "fdd366aa-2141-4edf-80de-9e6b11812f18",
   "metadata": {},
   "source": [
    "##Random"
   ]
  },
  {
   "cell_type": "markdown",
   "id": "d74510d8-3311-42b0-aee9-a4bd3f2d35fe",
   "metadata": {},
   "source": [
    "## Random"
   ]
  },
  {
   "cell_type": "code",
   "execution_count": 14,
   "id": "249bf837-64e9-4b78-a393-ccfb798f2526",
   "metadata": {},
   "outputs": [],
   "source": [
    "import random\n"
   ]
  },
  {
   "cell_type": "code",
   "execution_count": 15,
   "id": "1c08ab7b-c2c5-41f2-a9ac-ecb1973b0c6d",
   "metadata": {},
   "outputs": [
    {
     "name": "stdout",
     "output_type": "stream",
     "text": [
      "0.6513991058126027\n"
     ]
    }
   ],
   "source": [
    "val = random.random()\n",
    "print(val)"
   ]
  },
  {
   "cell_type": "code",
   "execution_count": 16,
   "id": "15f0e7aa-9b85-4fa7-9967-6eeb1c038d70",
   "metadata": {},
   "outputs": [
    {
     "ename": "AttributeError",
     "evalue": "module 'random' has no attribute 'randit'",
     "output_type": "error",
     "traceback": [
      "\u001b[1;31m---------------------------------------------------------------------------\u001b[0m",
      "\u001b[1;31mAttributeError\u001b[0m                            Traceback (most recent call last)",
      "Input \u001b[1;32mIn [16]\u001b[0m, in \u001b[0;36m<cell line: 1>\u001b[1;34m()\u001b[0m\n\u001b[1;32m----> 1\u001b[0m val2 \u001b[38;5;241m=\u001b[39m \u001b[43mrandom\u001b[49m\u001b[38;5;241;43m.\u001b[39;49m\u001b[43mrandit\u001b[49m(\u001b[38;5;241m1\u001b[39m,\u001b[38;5;241m10\u001b[39m)\n",
      "\u001b[1;31mAttributeError\u001b[0m: module 'random' has no attribute 'randit'"
     ]
    }
   ],
   "source": [
    "val2 = random.randit(1,10)"
   ]
  },
  {
   "cell_type": "code",
   "execution_count": 17,
   "id": "d4c7f4b5-f44e-4398-99b6-30407a9f4e33",
   "metadata": {},
   "outputs": [],
   "source": [
    "val2 = random.randint(1,10)"
   ]
  },
  {
   "cell_type": "code",
   "execution_count": 21,
   "id": "ac2f23ba-f222-4a1b-823b-b739c6e4c90b",
   "metadata": {},
   "outputs": [
    {
     "name": "stdout",
     "output_type": "stream",
     "text": [
      "5\n"
     ]
    }
   ],
   "source": [
    "print(val2)"
   ]
  },
  {
   "cell_type": "code",
   "execution_count": null,
   "id": "b80e2f1a-ef2f-4a0d-9745-38a4bdaf1792",
   "metadata": {},
   "outputs": [],
   "source": []
  },
  {
   "cell_type": "code",
   "execution_count": 22,
   "id": "8ca3db13-e8ce-4a9c-ad8b-7a63bf4b54ff",
   "metadata": {},
   "outputs": [
    {
     "name": "stdout",
     "output_type": "stream",
     "text": [
      "hii\n"
     ]
    }
   ],
   "source": [
    "m = ['hii','hey','bieee']\n",
    "val = random.choice(m)\n",
    "print(val)"
   ]
  },
  {
   "cell_type": "code",
   "execution_count": 23,
   "id": "4d667f0c-488d-40e9-a900-ca741f10897c",
   "metadata": {},
   "outputs": [
    {
     "name": "stdout",
     "output_type": "stream",
     "text": [
      "['hey', 'hey', 'bieee']\n"
     ]
    }
   ],
   "source": [
    "m = ['hii','hey','bieee']\n",
    "val = random.choices(m,k=3)\n",
    "print(val)"
   ]
  },
  {
   "cell_type": "code",
   "execution_count": 24,
   "id": "2afc35d0-a33e-404c-9b32-17a1844b09e8",
   "metadata": {},
   "outputs": [
    {
     "name": "stdout",
     "output_type": "stream",
     "text": [
      "['hii', 'hii']\n"
     ]
    }
   ],
   "source": [
    "m = ['hii','hey','bieee']\n",
    "val = random.choices(m,k=2)\n",
    "print(val)"
   ]
  },
  {
   "cell_type": "code",
   "execution_count": 25,
   "id": "d1979549-eed7-4d18-8712-50063d4a8d49",
   "metadata": {},
   "outputs": [
    {
     "name": "stdout",
     "output_type": "stream",
     "text": [
      "['bieee', 'hii', 'hey']\n"
     ]
    }
   ],
   "source": [
    "#Shuffle\n",
    "random.shuffle(m)\n",
    "print(m)"
   ]
  },
  {
   "cell_type": "code",
   "execution_count": null,
   "id": "29c737f4-3479-462c-9675-2f59e2664318",
   "metadata": {},
   "outputs": [],
   "source": []
  }
 ],
 "metadata": {
  "kernelspec": {
   "display_name": "Python 3 (ipykernel)",
   "language": "python",
   "name": "python3"
  },
  "language_info": {
   "codemirror_mode": {
    "name": "ipython",
    "version": 3
   },
   "file_extension": ".py",
   "mimetype": "text/x-python",
   "name": "python",
   "nbconvert_exporter": "python",
   "pygments_lexer": "ipython3",
   "version": "3.9.12"
  }
 },
 "nbformat": 4,
 "nbformat_minor": 5
}
